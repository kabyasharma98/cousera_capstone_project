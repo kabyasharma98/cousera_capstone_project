{
    "cells": [
        {
            "cell_type": "markdown",
            "metadata": {},
            "source": "# COURSERA CAPSTONE\n## IBM Applied Data Science Capstone\n### OPENING AN INDIAN RESTAURANT IN TORONTO,CANADA\n### BY: KABYA SHARMA \n### 24TH APRIL,2020"
        },
        {
            "cell_type": "markdown",
            "metadata": {},
            "source": "***"
        },
        {
            "cell_type": "markdown",
            "metadata": {},
            "source": "## INTRODUCTION"
        },
        {
            "cell_type": "markdown",
            "metadata": {},
            "source": "### Canada is one of the many countries that is densely populated with Indians mostly punjabis. Its a known fact that Indians will choose Indian food over any other cuisine. Indian food has a wide fan base all over the world. Indian restuarants in canada which offers Indian food to the Indians as well as non-Indians can lure a lot of customers and has a potential to become one of the most loved and profitable business."
        },
        {
            "cell_type": "markdown",
            "metadata": {},
            "source": "****"
        },
        {
            "cell_type": "markdown",
            "metadata": {},
            "source": "### BUSINESS IDEA"
        },
        {
            "cell_type": "markdown",
            "metadata": {},
            "source": "The objective of this capstone project is to analyse and select all neighbourhood areas in the city of\nToronto,Canada to open an Indian Restuarant. Using data science methodology and machine\nlearning techniques like clustering, this project aims to provide solutions to answer the business\nquestion:\nIn the city of Toronto,Canada,keeping in mind how densely populated canada is with Indians, if a property developer is looking to open a new Indian Restuarant,\nwhere would you recommend that they open it?"
        },
        {
            "cell_type": "markdown",
            "metadata": {},
            "source": "### TARGET AUDIENCE"
        },
        {
            "cell_type": "markdown",
            "metadata": {},
            "source": "This project is particularly useful to property developers and investors looking to open or invest in\nprofitable business investments in the  city of Toronto,Canada. Toronto hosts a large number of Indians who migrate to Canada in search of better living standards and life opportunity and what better than Indian food to keep the Indians and their taste buds satisfied. So this business idea can be adopted and used for making more and more profit, because Indians love to spend life eating and celebrating. Now, to\nmake more profit we need to find an area which is famous or good but has less number of ice-cream\nparlour so that we can get minimum competition. So, before an investment results of this project\ncan be really helpful."
        },
        {
            "cell_type": "markdown",
            "metadata": {},
            "source": "__________________________________________________________________________________________________________________________________________________________________________"
        },
        {
            "cell_type": "markdown",
            "metadata": {},
            "source": "__ __ __ __ __ __ __ __ __ __ __ __ __ __ __ __ __ __ ___ __ __ __ __ __ __ __ __ __ __ __ __ __ __ __ __ __ __ __ __ __ __ __ __ __ __ __ __ __ __ __ __ __ __ __ __ __ _"
        },
        {
            "cell_type": "markdown",
            "metadata": {},
            "source": "##  DESCRIPTION OF DATA"
        },
        {
            "cell_type": "markdown",
            "metadata": {},
            "source": "To execute the above stated business idea we need to get the following data\n1. The data of the neighborhood.\n2. The data of location of neighborhood\n3. The venues-categories in the neighborhood so that we can choose and separate information about Indian Restuarant and work on them using clustering and different algorithms of machine learning."
        },
        {
            "cell_type": "markdown",
            "metadata": {},
            "source": "This Wikipedia page (https://en.wikipedia.org/wiki/List_of_postal_codes_of_Canada:_M)\ncontains a list of neighbourhoods in Toronto,Canada.we will drop the postal codes and borough as we wont be needing them in our assessment of neighbourhood for opening an Indian Restuaranr. We will use web scraping techniques to extract the data from the Wikipedia page, with the help of Python\nrequests and pandas packages. Then we will get the geographical coordinates of the\nneighbourhoods using Python Geocoder package which will give us the latitude and longitude\ncoordinates of the neighbourhoods.\nAfter that, we will use Foursquare API to get the venue data for those neighbourhoods. Foursquare\nhas one of the largest database of 105+ million places and is used by over 125,000 developers.\nFoursquare API will provide many categories of the venue data, we are particularly interested in the\nIndian restuarant category in order to help us to solve the business problem put forward. This is a\nproject that will make use of many data science skills, from web scraping (Wikipedia), working with\nAPI (Foursquare), data cleaning, data wrangling, to machine learning (K-means clustering) and map\nvisualization (Folium). In the next section, we will present the Methodology section where we will\ndiscuss the steps taken in this project, the data analysis that we did and the machine learning\ntechnique that was used."
        },
        {
            "cell_type": "code",
            "execution_count": null,
            "metadata": {},
            "outputs": [],
            "source": ""
        }
    ],
    "metadata": {
        "kernelspec": {
            "display_name": "Python 3.6",
            "language": "python",
            "name": "python3"
        },
        "language_info": {
            "codemirror_mode": {
                "name": "ipython",
                "version": 3
            },
            "file_extension": ".py",
            "mimetype": "text/x-python",
            "name": "python",
            "nbconvert_exporter": "python",
            "pygments_lexer": "ipython3",
            "version": "3.6.9"
        }
    },
    "nbformat": 4,
    "nbformat_minor": 1
}