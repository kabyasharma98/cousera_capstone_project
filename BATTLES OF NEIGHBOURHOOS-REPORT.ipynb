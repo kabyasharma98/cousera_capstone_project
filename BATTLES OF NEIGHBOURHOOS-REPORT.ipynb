{
    "cells": [
        {
            "cell_type": "markdown",
            "metadata": {},
            "source": "# COURSERA CAPSTONE\n## IBM Applied Data Science Capstone\n### OPENING AN INDIAN RESTAURANT IN TORONTO,CANADA\n### BY: KABYA SHARMA \n### 24TH APRIL,2020"
        },
        {
            "cell_type": "markdown",
            "metadata": {},
            "source": "***"
        },
        {
            "cell_type": "markdown",
            "metadata": {},
            "source": "## INTRODUCTION"
        },
        {
            "cell_type": "markdown",
            "metadata": {},
            "source": "### Canada is one of the many countries that is densely populated with Indians mostly punjabis. Its a known fact that Indians will choose Indian food over any other cuisine. Indian food has a wide fan base all over the world. Indian restuarants in canada which offers Indian food to the Indians as well as non-Indians can lure a lot of customers and has a potential to become one of the most loved and profitable business."
        },
        {
            "cell_type": "markdown",
            "metadata": {},
            "source": "****"
        },
        {
            "cell_type": "markdown",
            "metadata": {},
            "source": "### BUSINESS IDEA"
        },
        {
            "cell_type": "markdown",
            "metadata": {},
            "source": "The objective of this capstone project is to analyse and select all neighbourhood areas in the city of\nToronto,Canada to open an Indian Restuarant. Using data science methodology and machine\nlearning techniques like clustering, this project aims to provide solutions to answer the business\nquestion:\nIn the city of Toronto,Canada,keeping in mind how densely populated canada is with Indians, if a property developer is looking to open a new Indian Restuarant,\nwhere would you recommend that they open it?"
        },
        {
            "cell_type": "markdown",
            "metadata": {},
            "source": "### TARGET AUDIENCE"
        },
        {
            "cell_type": "markdown",
            "metadata": {},
            "source": "This project is particularly useful to property developers and investors looking to open or invest in\nprofitable business investments in the  city of Toronto,Canada. Toronto hosts a large number of Indians who migrate to Canada in search of better living standards and life opportunity and what better than Indian food to keep the Indians and their taste buds satisfied. So this business idea can be adopted and used for making more and more profit, because Indians love to spend life eating and celebrating. Now, to\nmake more profit we need to find an area which is famous or good but has less number of ice-cream\nparlour so that we can get minimum competition. So, before an investment results of this project\ncan be really helpful."
        },
        {
            "cell_type": "markdown",
            "metadata": {},
            "source": "__________________________________________________________________________________________________________________________________________________________________________"
        },
        {
            "cell_type": "markdown",
            "metadata": {},
            "source": "__ __ __ __ __ __ __ __ __ __ __ __ __ __ __ __ __ __ ___ __ __ __ __ __ __ __ __ __ __ __ __ __ __ __ __ __ __ __ __ __ __ __ __ __ __ __ __ __ __ __ __ __ __ __ __ __ _"
        },
        {
            "cell_type": "markdown",
            "metadata": {},
            "source": "##  DESCRIPTION OF DATA"
        },
        {
            "cell_type": "markdown",
            "metadata": {},
            "source": "To execute the above stated business idea we need to get the following data\n1. The data of the neighborhood.\n2. The data of location of neighborhood\n3. The venues-categories in the neighborhood so that we can choose and separate information about Indian Restuarant and work on them using clustering and different algorithms of machine learning."
        },
        {
            "cell_type": "markdown",
            "metadata": {},
            "source": "This Wikipedia page (https://en.wikipedia.org/wiki/List_of_postal_codes_of_Canada:_M)\ncontains a list of neighbourhoods in Toronto,Canada.we will drop the postal codes and borough as we wont be needing them in our assessment of neighbourhood for opening an Indian Restuaranr. We will use web scraping techniques to extract the data from the Wikipedia page, with the help of Python\nrequests and pandas packages. Then we will get the geographical coordinates of the\nneighbourhoods using Python Geocoder package which will give us the latitude and longitude\ncoordinates of the neighbourhoods.\nAfter that, we will use Foursquare API to get the venue data for those neighbourhoods. Foursquare\nhas one of the largest database of 105+ million places and is used by over 125,000 developers.\nFoursquare API will provide many categories of the venue data, we are particularly interested in the\nIndian restuarant category in order to help us to solve the business problem put forward. This is a\nproject that will make use of many data science skills, from web scraping (Wikipedia), working with\nAPI (Foursquare), data cleaning, data wrangling, to machine learning (K-means clustering) and map\nvisualization (Folium). In the next section, we will present the Methodology section where we will\ndiscuss the steps taken in this project, the data analysis that we did and the machine learning\ntechnique that was used."
        },
        {
            "cell_type": "markdown",
            "metadata": {},
            "source": "***\n***"
        },
        {
            "cell_type": "markdown",
            "metadata": {},
            "source": "## METHODOLOGY"
        },
        {
            "cell_type": "markdown",
            "metadata": {},
            "source": "1. Firstly, we need to get the list of neighbourhoods in the city of Bangalore. \nFortunately, the list is available in the Wikipedia page and was also udes in previous assignments\n(https://en.wikipedia.org/wiki/List_of_postal_codes_of_Canada:_M). We import all the modules of python which help us with\nweb scraping using Python requests and pandas packages to extract the list of\nneighbourhoods data. However, this is just a list of names.\n2. We need to get the geographical coordinates in the form of latitude and longitude in\norder to be able to use Foursquare API. To do so, we will use the wonderful\nGeocoder package that will allow us to convert address into geographical\ncoordinates in the form of latitude and longitude.\n3. After gathering the data, we will populate the data into a pandas DataFrame and\nthen visualize the neighbourhoods in a map using Folium package. This allows us to\nperform a sanity check to make sure that the geographical coordinates data returned\nby Geocoder are correctly plotted in the city of Toronto.\n4. Next, we will use Foursquare API to get the top 300 venues that are within a radius\nof 5000 meters. We need to register a Foursquare Developer Account in order to\nobtain the Foursquare ID and Foursquare secret key.\n5. We then make API calls to Foursquare passing in the geographical coordinates of the\nneighbourhoods in a Python loop. Foursquare will return the venue data in JSON\nformat and we will extract the venue name, venue category, venue latitude and\nlongitude.\n6. With the data, we can check how many venues were returned for each\nneighbourhood and examine how many unique categories can be curated from all\nthe returned venues.\n7. Then, we will analyse each neighbourhood by grouping the rows by neighbourhood\nand taking the mean of the frequency of occurrence of each venue category.\n8. By doing so, we are also preparing the data for use in clustering. Since we are\nanalysing the \u201cIndian Restaurant\u201d data, we will filter the \u201cIndian Restaurant\u201d as venue\ncategory for the neighbourhoods.\n9. Lastly, we will perform clustering on the data by using k-means clustering. K-means\nclustering algorithm identifies k number of centroids, and then allocates every data\npoint to the nearest cluster, while keeping the centroids as small as possible.\n10.  It is one of the simplest and popular unsupervised machine learning algorithms and\nis particularly suited to solve the problem for this project. We will cluster the\nneighbourhoods into 9 clusters based on their frequency of occurrence for \u201cIndian Restaurant\u201d. The results will allow us to identify which neighbourhoods have higher\nconcentration of Indian Restaurant while which neighbourhoods have fewer number\nof Indian Restaurants. Based on the occurrence of Indian Restaurants in different\nneighbourhoods, it will help us to answer the question as to which neighbourhoods\nare most suitable to open Indian Restaurant."
        },
        {
            "cell_type": "markdown",
            "metadata": {},
            "source": "## RESULTS"
        },
        {
            "cell_type": "markdown",
            "metadata": {},
            "source": "The results from the k-means clustering show that we can categorize\nthe neighbourhoods into 9 clusters based on the frequency of\noccurrence for \u201cINDIAN RESTAURANT\u201d:\n1. Cluster 3,6,7,8,9  are areas with **least** number of INDIAN RESTAURANT,\n2. Cluster 5,4 has  **moderate** number of INDIAN RESTAURANT, and\n3. Cluster 1,2 has  **maximum** number of INDIAN RESTAURANT\nSo, it is more likely that one should choose 1 cluster of neighbourhood\n among cluster 3,6,7,8 and 9 for opening a new INDIAN RESTAURANT."
        },
        {
            "cell_type": "markdown",
            "metadata": {},
            "source": "## DISCUSSIONS"
        },
        {
            "attachments": {},
            "cell_type": "markdown",
            "metadata": {},
            "source": "- The cluster 3,6,7,8 and 9 has least number of neighbourhood that has Indian restuarants so these neighbourhood can be considered in order to open new restuarants in order to earn more and more profit.\n- The cluster 5,4 has moderate number of neighbourhood so these area should be considered only if these areas are more densely populated than the areas stated above"
        },
        {
            "cell_type": "markdown",
            "metadata": {},
            "source": "## SUGGESTION FOR FUTURE REFERENCE"
        },
        {
            "cell_type": "markdown",
            "metadata": {},
            "source": "In this project, we only consider one factor i.e. frequency of occurrence of icecream\nshops, there are other factors such as population ,shopping mall and\nincome of residents that could influence the location decision of a new icecream\nshops. However, to the best knowledge of this researcher such data are\nnot available to the neighbourhood level required by this project. Future\nresearch could devise a methodology to estimate such data to be used in the\nclustering algorithm to determine the preferred locations to open a new icecream\nshop. In addition, this project made use of the free Sandbox Tier\nAccount of Foursquare API that came with limitations as to the number of API\ncalls and results returned. Future research could make use of paid account to\nbypass these limitations and obtain more results."
        },
        {
            "cell_type": "markdown",
            "metadata": {},
            "source": "## CONCLUSION"
        },
        {
            "cell_type": "markdown",
            "metadata": {},
            "source": "In this project, we have gone through the process of identifying the\nbusiness problem, specifying the data required, extracting and\npreparing the data, performing machine learning by clustering the\ndata into 9 clusters based on their similarities, and lastly providing\nrecommendations to the relevant stakeholders i.e. property\ndevelopers and investors regarding the best locations to open a new\nINDIAN RESTUARANT. To answer the business question that was raised in\nthe introduction section, the answer proposed by this project is: The\n neighbourhood in cluster 3, 6 are the most preferred locations to\nopen a new shopping mall. The findings of this project will help the\nrelevant stakeholders to capitalize on the opportunities on high\npotential locations while avoiding overcrowded areas in their\ndecisions to open a new indian restuarant"
        },
        {
            "cell_type": "code",
            "execution_count": null,
            "metadata": {},
            "outputs": [],
            "source": ""
        }
    ],
    "metadata": {
        "kernelspec": {
            "display_name": "Python 3.6",
            "language": "python",
            "name": "python3"
        },
        "language_info": {
            "codemirror_mode": {
                "name": "ipython",
                "version": 3
            },
            "file_extension": ".py",
            "mimetype": "text/x-python",
            "name": "python",
            "nbconvert_exporter": "python",
            "pygments_lexer": "ipython3",
            "version": "3.6.9"
        }
    },
    "nbformat": 4,
    "nbformat_minor": 1
}